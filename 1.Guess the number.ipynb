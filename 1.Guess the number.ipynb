{
 "cells": [
  {
   "cell_type": "markdown",
   "id": "96bf8528",
   "metadata": {},
   "source": [
    "# Guess the number"
   ]
  },
  {
   "cell_type": "code",
   "execution_count": 1,
   "id": "fe654263",
   "metadata": {},
   "outputs": [],
   "source": [
    "from random import seed\n",
    "from random import randint"
   ]
  },
  {
   "cell_type": "code",
   "execution_count": 3,
   "id": "944bdde3",
   "metadata": {},
   "outputs": [
    {
     "name": "stdout",
     "output_type": "stream",
     "text": [
      "Can you guess my number?\n",
      "3\n",
      "smaller\n",
      "Can you guess my number?\n",
      "1\n",
      "greater\n",
      "Can you guess my number?\n",
      "2\n",
      "You have correctly guessed my number!\n"
     ]
    }
   ],
   "source": [
    "# seed random number generator\n",
    "seed(1)\n",
    "my_number = randint(0, 10)\n",
    "user_guess = 0\n",
    "while user_guess != my_number:\n",
    "    print('Can you guess my number?')\n",
    "    user_guess = int(input())\n",
    "    if user_guess > my_number:\n",
    "        print('smaller')\n",
    "    elif user_guess < my_number:\n",
    "        print('greater')\n",
    "print('You have correctly guessed my number!')"
   ]
  },
  {
   "cell_type": "code",
   "execution_count": null,
   "id": "0ad5448d",
   "metadata": {},
   "outputs": [],
   "source": []
  },
  {
   "cell_type": "code",
   "execution_count": null,
   "id": "cfb2bfff",
   "metadata": {},
   "outputs": [],
   "source": []
  }
 ],
 "metadata": {
  "kernelspec": {
   "display_name": "Python 3",
   "language": "python",
   "name": "python3"
  },
  "language_info": {
   "codemirror_mode": {
    "name": "ipython",
    "version": 3
   },
   "file_extension": ".py",
   "mimetype": "text/x-python",
   "name": "python",
   "nbconvert_exporter": "python",
   "pygments_lexer": "ipython3",
   "version": "3.8.8"
  }
 },
 "nbformat": 4,
 "nbformat_minor": 5
}
