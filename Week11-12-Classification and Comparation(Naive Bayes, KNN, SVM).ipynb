{
 "cells": [
  {
   "cell_type": "markdown",
   "id": "dad0e3de",
   "metadata": {},
   "source": [
    "# Classification and Comparation(Naive Bayes, KNN, SVM)"
   ]
  },
  {
   "cell_type": "code",
   "execution_count": 30,
   "id": "4703f676",
   "metadata": {},
   "outputs": [],
   "source": [
    "#Importing libraries\n",
    "import pandas as pd\n",
    "import numpy as np\n",
    "import seaborn as sns\n",
    "import matplotlib.pyplot as plt\n",
    "import matplotlib.colors as colors\n",
    "from pandas.plotting import parallel_coordinates\n",
    "from sklearn.preprocessing import LabelEncoder\n",
    "\n",
    "#Metrics\n",
    "from sklearn import metrics\n",
    "from sklearn.metrics import make_scorer, accuracy_score,precision_score\n",
    "from sklearn.metrics import classification_report\n",
    "from sklearn.metrics import confusion_matrix\n",
    "from sklearn.metrics import accuracy_score ,precision_score,recall_score,f1_score\n",
    "\n",
    "#Model Select\n",
    "from sklearn import linear_model\n",
    "from sklearn.model_selection import train_test_split\n",
    "from sklearn.ensemble import RandomForestClassifier\n",
    "from sklearn.linear_model import  LogisticRegression\n",
    "from sklearn.linear_model import SGDClassifier\n",
    "from sklearn.tree import DecisionTreeClassifier\n",
    "from sklearn.neighbors import KNeighborsClassifier\n",
    "from sklearn.svm import SVC, LinearSVC\n",
    "from sklearn.naive_bayes import GaussianNB\n",
    "from sklearn.tree import DecisionTreeClassifier, plot_tree\n",
    "from sklearn.preprocessing import LabelEncoder\n",
    "from sklearn.preprocessing import OneHotEncoder"
   ]
  },
  {
   "cell_type": "code",
   "execution_count": 31,
   "id": "6706e416",
   "metadata": {},
   "outputs": [
    {
     "name": "stdout",
     "output_type": "stream",
     "text": [
      "before cleaning\n",
      "  species     island  bill_length_mm  bill_depth_mm  flipper_length_mm  \\\n",
      "0  Adelie  Torgersen            39.1           18.7              181.0   \n",
      "1  Adelie  Torgersen            39.5           17.4              186.0   \n",
      "2  Adelie  Torgersen            40.3           18.0              195.0   \n",
      "3  Adelie  Torgersen             NaN            NaN                NaN   \n",
      "4  Adelie  Torgersen            36.7           19.3              193.0   \n",
      "\n",
      "   body_mass_g     sex  \n",
      "0       3750.0    MALE  \n",
      "1       3800.0  FEMALE  \n",
      "2       3250.0  FEMALE  \n",
      "3          NaN     NaN  \n",
      "4       3450.0  FEMALE  \n",
      "       species  island  bill_length_mm  bill_depth_mm  flipper_length_mm  \\\n",
      "count      344     344      342.000000     342.000000         342.000000   \n",
      "unique       3       3             NaN            NaN                NaN   \n",
      "top     Adelie  Biscoe             NaN            NaN                NaN   \n",
      "freq       152     168             NaN            NaN                NaN   \n",
      "mean       NaN     NaN       43.921930      17.151170         200.915205   \n",
      "std        NaN     NaN        5.459584       1.974793          14.061714   \n",
      "min        NaN     NaN       32.100000      13.100000         172.000000   \n",
      "25%        NaN     NaN       39.225000      15.600000         190.000000   \n",
      "50%        NaN     NaN       44.450000      17.300000         197.000000   \n",
      "75%        NaN     NaN       48.500000      18.700000         213.000000   \n",
      "max        NaN     NaN       59.600000      21.500000         231.000000   \n",
      "\n",
      "        body_mass_g   sex  \n",
      "count    342.000000   333  \n",
      "unique          NaN     2  \n",
      "top             NaN  MALE  \n",
      "freq            NaN   168  \n",
      "mean    4201.754386   NaN  \n",
      "std      801.954536   NaN  \n",
      "min     2700.000000   NaN  \n",
      "25%     3550.000000   NaN  \n",
      "50%     4050.000000   NaN  \n",
      "75%     4750.000000   NaN  \n",
      "max     6300.000000   NaN  \n",
      "<class 'pandas.core.frame.DataFrame'>\n",
      "RangeIndex: 344 entries, 0 to 343\n",
      "Data columns (total 7 columns):\n",
      " #   Column             Non-Null Count  Dtype  \n",
      "---  ------             --------------  -----  \n",
      " 0   species            344 non-null    object \n",
      " 1   island             344 non-null    object \n",
      " 2   bill_length_mm     342 non-null    float64\n",
      " 3   bill_depth_mm      342 non-null    float64\n",
      " 4   flipper_length_mm  342 non-null    float64\n",
      " 5   body_mass_g        342 non-null    float64\n",
      " 6   sex                333 non-null    object \n",
      "dtypes: float64(4), object(3)\n",
      "memory usage: 18.9+ KB\n",
      "after cleaning\n",
      "       species  island  bill_length_mm  bill_depth_mm  flipper_length_mm  \\\n",
      "count      333     333      333.000000     333.000000         333.000000   \n",
      "unique       3       3             NaN            NaN                NaN   \n",
      "top     Adelie  Biscoe             NaN            NaN                NaN   \n",
      "freq       146     163             NaN            NaN                NaN   \n",
      "mean       NaN     NaN       43.992793      17.164865         200.966967   \n",
      "std        NaN     NaN        5.468668       1.969235          14.015765   \n",
      "min        NaN     NaN       32.100000      13.100000         172.000000   \n",
      "25%        NaN     NaN       39.500000      15.600000         190.000000   \n",
      "50%        NaN     NaN       44.500000      17.300000         197.000000   \n",
      "75%        NaN     NaN       48.600000      18.700000         213.000000   \n",
      "max        NaN     NaN       59.600000      21.500000         231.000000   \n",
      "\n",
      "        body_mass_g   sex  \n",
      "count    333.000000   333  \n",
      "unique          NaN     2  \n",
      "top             NaN  MALE  \n",
      "freq            NaN   168  \n",
      "mean    4207.057057   NaN  \n",
      "std      805.215802   NaN  \n",
      "min     2700.000000   NaN  \n",
      "25%     3550.000000   NaN  \n",
      "50%     4050.000000   NaN  \n",
      "75%     4775.000000   NaN  \n",
      "max     6300.000000   NaN  \n"
     ]
    }
   ],
   "source": [
    "# Reading dataset\n",
    "data = pd.read_csv(\"penguins.csv\")\n",
    "\n",
    "# describe the dataset before cleaning\n",
    "print(\"before cleaning\")\n",
    "print(data.head())\n",
    "print(data.describe(include='all'))\n",
    "data.info()\n",
    "\n",
    "\n",
    "# Cleaning the data\n",
    "# 1 - drop rows with missing value of \"sex\" column\n",
    "data.dropna(subset=['sex'], inplace = True)\n",
    "# 2 - fill missing numuric column with median value\n",
    "median = data['bill_length_mm'].median()\n",
    "data['bill_length_mm'].fillna(median, inplace=True)\n",
    "median = data['bill_depth_mm'].median()\n",
    "data['bill_depth_mm'].fillna(median, inplace=True)\n",
    "median = data['flipper_length_mm'].median()\n",
    "data['flipper_length_mm'].fillna(median, inplace=True)\n",
    "median = data['body_mass_g'].median()\n",
    "data['body_mass_g'].fillna(median, inplace=True)\n",
    "# 3 - drop duplicated rows\n",
    "data.drop_duplicates(inplace=True)\n",
    "\n",
    "# after cleaning\n",
    "print(\"after cleaning\")\n",
    "print(data.describe(include='all'))\n",
    "\n",
    "# reset the index after data cleaning \n",
    "# because one-hot encoding maps values by index\n",
    "data.reset_index(inplace=True, drop=True)"
   ]
  },
  {
   "cell_type": "code",
   "execution_count": 32,
   "id": "2537d2a3",
   "metadata": {},
   "outputs": [
    {
     "data": {
      "text/html": [
       "<div>\n",
       "<style scoped>\n",
       "    .dataframe tbody tr th:only-of-type {\n",
       "        vertical-align: middle;\n",
       "    }\n",
       "\n",
       "    .dataframe tbody tr th {\n",
       "        vertical-align: top;\n",
       "    }\n",
       "\n",
       "    .dataframe thead th {\n",
       "        text-align: right;\n",
       "    }\n",
       "</style>\n",
       "<table border=\"1\" class=\"dataframe\">\n",
       "  <thead>\n",
       "    <tr style=\"text-align: right;\">\n",
       "      <th>col_0</th>\n",
       "      <th>count</th>\n",
       "    </tr>\n",
       "    <tr>\n",
       "      <th>species</th>\n",
       "      <th></th>\n",
       "    </tr>\n",
       "  </thead>\n",
       "  <tbody>\n",
       "    <tr>\n",
       "      <th>Adelie</th>\n",
       "      <td>146</td>\n",
       "    </tr>\n",
       "    <tr>\n",
       "      <th>Chinstrap</th>\n",
       "      <td>68</td>\n",
       "    </tr>\n",
       "    <tr>\n",
       "      <th>Gentoo</th>\n",
       "      <td>119</td>\n",
       "    </tr>\n",
       "  </tbody>\n",
       "</table>\n",
       "</div>"
      ],
      "text/plain": [
       "col_0      count\n",
       "species         \n",
       "Adelie       146\n",
       "Chinstrap     68\n",
       "Gentoo       119"
      ]
     },
     "execution_count": 32,
     "metadata": {},
     "output_type": "execute_result"
    }
   ],
   "source": [
    "#Frequency distribution of species\n",
    "# Make a crosstab and name the count column\n",
    "pd.crosstab(index=data[\"species\"], columns=\"count\")"
   ]
  },
  {
   "cell_type": "code",
   "execution_count": 33,
   "id": "8e061915",
   "metadata": {},
   "outputs": [
    {
     "name": "stdout",
     "output_type": "stream",
     "text": [
      "    species     island  bill_length_mm  bill_depth_mm  flipper_length_mm  \\\n",
      "0    Adelie  Torgersen            39.1           18.7              181.0   \n",
      "1    Adelie  Torgersen            39.5           17.4              186.0   \n",
      "2    Adelie  Torgersen            40.3           18.0              195.0   \n",
      "3    Adelie  Torgersen            36.7           19.3              193.0   \n",
      "4    Adelie  Torgersen            39.3           20.6              190.0   \n",
      "..      ...        ...             ...            ...                ...   \n",
      "328  Gentoo     Biscoe            47.2           13.7              214.0   \n",
      "329  Gentoo     Biscoe            46.8           14.3              215.0   \n",
      "330  Gentoo     Biscoe            50.4           15.7              222.0   \n",
      "331  Gentoo     Biscoe            45.2           14.8              212.0   \n",
      "332  Gentoo     Biscoe            49.9           16.1              213.0   \n",
      "\n",
      "     body_mass_g  MALE  \n",
      "0         3750.0   1.0  \n",
      "1         3800.0   0.0  \n",
      "2         3250.0   0.0  \n",
      "3         3450.0   0.0  \n",
      "4         3650.0   1.0  \n",
      "..           ...   ...  \n",
      "328       4925.0   0.0  \n",
      "329       4850.0   0.0  \n",
      "330       5750.0   1.0  \n",
      "331       5200.0   0.0  \n",
      "332       5400.0   1.0  \n",
      "\n",
      "[333 rows x 7 columns]\n"
     ]
    }
   ],
   "source": [
    "#Label encoding: \n",
    "# le = LabelEncoder()\n",
    "# column_encoded = le.fit_transform(data['sex'])\n",
    "# column_reshaped = column_encoded.reshape(len(column_encoded), 1)\n",
    "\n",
    "# oh = OneHotEncoder(sparse=False, handle_unknown='error', drop='first', categories='auto')\n",
    "# column_onehot_encoded = oh.fit_transform(column_reshaped)\n",
    "\n",
    "# oh_data = data.DataFrame(column_onehot_encoded)\n",
    "# data = data.join(ohe_df)\n",
    "# data = data.rename({0: \"MALE\"}, axis=1)\n",
    "# data.drop(columns=['sex'], inplace=True)\n",
    "# print(data)\n",
    "\n",
    "# applying one-hot encoding on the \"sex\" column\n",
    "from sklearn.preprocessing import LabelEncoder\n",
    "from sklearn.preprocessing import OneHotEncoder\n",
    "\n",
    "label_encoder = LabelEncoder()\n",
    "column_encoded = label_encoder.fit_transform(data['sex'])\n",
    "column_reshaped = column_encoded.reshape(len(column_encoded), 1)\n",
    "\n",
    "onehot_encoder = OneHotEncoder(sparse=False, handle_unknown='error', drop='first', categories='auto')\n",
    "column_onehot_encoded = onehot_encoder.fit_transform(column_reshaped)\n",
    "\n",
    "ohe_df = pd.DataFrame(column_onehot_encoded)\n",
    "data = data.join(ohe_df)\n",
    "data = data.rename({0: \"MALE\"}, axis=1)\n",
    "data.drop(columns=['sex'], inplace=True)\n",
    "print(data)\n"
   ]
  },
  {
   "cell_type": "code",
   "execution_count": 34,
   "id": "c5d96254",
   "metadata": {},
   "outputs": [
    {
     "name": "stdout",
     "output_type": "stream",
     "text": [
      "    species  bill_length_mm  bill_depth_mm  flipper_length_mm  body_mass_g  \\\n",
      "0    Adelie            39.1           18.7              181.0       3750.0   \n",
      "1    Adelie            39.5           17.4              186.0       3800.0   \n",
      "2    Adelie            40.3           18.0              195.0       3250.0   \n",
      "3    Adelie            36.7           19.3              193.0       3450.0   \n",
      "4    Adelie            39.3           20.6              190.0       3650.0   \n",
      "..      ...             ...            ...                ...          ...   \n",
      "328  Gentoo            47.2           13.7              214.0       4925.0   \n",
      "329  Gentoo            46.8           14.3              215.0       4850.0   \n",
      "330  Gentoo            50.4           15.7              222.0       5750.0   \n",
      "331  Gentoo            45.2           14.8              212.0       5200.0   \n",
      "332  Gentoo            49.9           16.1              213.0       5400.0   \n",
      "\n",
      "     MALE  island_ordinal  \n",
      "0     1.0               3  \n",
      "1     0.0               3  \n",
      "2     0.0               3  \n",
      "3     0.0               3  \n",
      "4     1.0               3  \n",
      "..    ...             ...  \n",
      "328   0.0               1  \n",
      "329   0.0               1  \n",
      "330   1.0               1  \n",
      "331   0.0               1  \n",
      "332   1.0               1  \n",
      "\n",
      "[333 rows x 7 columns]\n"
     ]
    }
   ],
   "source": [
    "# applying ordinal encoding on the \"island\" column \n",
    "islands_dict = {'Biscoe': 1, 'Dream': 2, 'Torgersen': 3}\n",
    "# setting the new column as int64 to make it appear in the heatmap below\n",
    "data['island_ordinal'] = data.island.map(islands_dict).astype('int64')\n",
    "data.drop(columns=['island'], inplace=True)\n",
    "print(data)"
   ]
  },
  {
   "cell_type": "code",
   "execution_count": 36,
   "id": "0cf256c0",
   "metadata": {},
   "outputs": [
    {
     "data": {
      "image/png": "[encoded data removed]",
      "text/plain": [
       "<Figure size 720x720 with 6 Axes>"
      ]
     },
     "metadata": {
      "needs_background": "light"
     },
     "output_type": "display_data"
    }
   ],
   "source": [
    "# Explore the TRAINING data\n",
    "\n",
    "#Create histograms for each feature\n",
    "n_bins = 10\n",
    "fig, axs = plt.subplots(3, 2, figsize=(10, 10))\n",
    "axs[0,0].hist(data.iloc[:,1].values, bins = n_bins)\n",
    "axs[0,0].set_title('bill_length_mm')\n",
    "axs[0,1].hist(data.iloc[:,2].values, bins = n_bins)\n",
    "axs[0,1].set_title('bill_depth_mm')\n",
    "axs[1,0].hist(data.iloc[:,3].values, bins = n_bins)\n",
    "axs[1,0].set_title('flipper_length_mm')\n",
    "axs[1,1].hist(data.iloc[:,4].values, bins = n_bins)\n",
    "axs[1,1].set_title('body_mass_g')\n",
    "axs[2,0].hist(data.iloc[:,5].values, bins = n_bins)\n",
    "axs[2,0].set_title('MALE')\n",
    "axs[2,1].hist(data.iloc[:,6].values, bins = n_bins)\n",
    "axs[2,1].set_title('island_ordinal')\n",
    "\n",
    "# add some spacing between subplots\n",
    "fig.tight_layout(pad=1.0)"
   ]
  },
  {
   "cell_type": "code",
   "execution_count": 40,
   "id": "060df3e1",
   "metadata": {},
   "outputs": [],
   "source": [
    "# Feature selection\n",
    "X = data.iloc[:,1:].values\n",
    "y = data.iloc[:,0].values\n",
    "\n",
    "# Split the data set before classification\n",
    "# Train set: 70% of data to train the model\n",
    "# Test set: 15% of data to test the model\n",
    "# Validation set: 15% of data used to evaluate \n",
    "# the performance of each classifier and fine-tune \n",
    "# the model parameters\n",
    "# Now we have small data set, therefore test set = validation set\n",
    "X_train, X_test, y_train, y_test = train_test_split(X, y, test_size=0.3, random_state=0)"
   ]
  },
  {
   "cell_type": "code",
   "execution_count": 41,
   "id": "0ed37d91",
   "metadata": {},
   "outputs": [
    {
     "name": "stdout",
     "output_type": "stream",
     "text": [
      "Confusion matrix for Naive Bayes\n",
      " [[46  2  0]\n",
      " [ 3 13  0]\n",
      " [ 0  0 36]]\n",
      "accuracy_Naive Bayes: 0.950\n",
      "precision_Naive Bayes: 0.950\n",
      "recall_Naive Bayes: 0.950\n",
      "f1-score_Naive Bayes : 0.950\n"
     ]
    }
   ],
   "source": [
    "#Gaussian Naive Bayes\n",
    "\n",
    "#Classification algorithm for binary and\n",
    "#multi-class classification problems.\n",
    "\n",
    "gaussian = GaussianNB()\n",
    "gaussian.fit(X_train, y_train)\n",
    "Y_pred = gaussian.predict(X_test) \n",
    "accuracy_nb=round(metrics.accuracy_score(y_test,Y_pred)* 100, 2)\n",
    "acc_gaussian = round(gaussian.score(X_train, y_train) * 100, 2)\n",
    "\n",
    "#Model evaluation\n",
    "cm = metrics.confusion_matrix(y_test, Y_pred)\n",
    "accuracy = metrics.accuracy_score(y_test,Y_pred)\n",
    "precision = metrics.precision_score(y_test, Y_pred,average='micro')\n",
    "recall = metrics.recall_score(y_test, Y_pred,average='micro')\n",
    "f1 = metrics.f1_score(y_test,Y_pred,average='micro')\n",
    "print('Confusion matrix for Naive Bayes\\n',cm)\n",
    "print('accuracy_Naive Bayes: %.3f' %accuracy)\n",
    "print('precision_Naive Bayes: %.3f' %precision)\n",
    "print('recall_Naive Bayes: %.3f' %recall)\n",
    "print('f1-score_Naive Bayes : %.3f' %f1)"
   ]
  },
  {
   "cell_type": "code",
   "execution_count": 42,
   "id": "59649bd1",
   "metadata": {},
   "outputs": [
    {
     "data": {
      "text/plain": [
       "Text(0, 0.5, 'Mean Error')"
      ]
     },
     "execution_count": 42,
     "metadata": {},
     "output_type": "execute_result"
    },
    {
     "data": {
      "image/png": "[encoded data removed]",
      "text/plain": [
       "<Figure size 864x432 with 1 Axes>"
      ]
     },
     "metadata": {
      "needs_background": "light"
     },
     "output_type": "display_data"
    }
   ],
   "source": [
    "#KNN\n",
    "\n",
    "#Determine optimal value for K\n",
    "\n",
    "#Comparing error rate with K-value:\n",
    "#calculate the mean of error for \n",
    "#all the predicted values where K ranges from 1 and 40\n",
    "\n",
    "error = []\n",
    "\n",
    "# Calculating error for K values between 1 and 40\n",
    "for i in range(1, 40):\n",
    "    knn = KNeighborsClassifier(n_neighbors=i)\n",
    "    knn.fit(X_train, y_train)\n",
    "    pred_i = knn.predict(X_test)\n",
    "    error.append(np.mean(pred_i != y_test))\n",
    "    \n",
    "#Plot the error values against K values\n",
    "#to find the best value for K\n",
    "plt.figure(figsize=(12, 6))\n",
    "plt.plot(range(1, 40), error, color='red', linestyle='dashed', marker='o',\n",
    "         markerfacecolor='blue', markersize=10)\n",
    "plt.title('Error Rate K Value')\n",
    "plt.xlabel('K Value')\n",
    "plt.ylabel('Mean Error')\n",
    "\n",
    "#Choose a K-value where mean error is closest to zero"
   ]
  },
  {
   "cell_type": "code",
   "execution_count": 48,
   "id": "1f4abb0c",
   "metadata": {},
   "outputs": [
    {
     "name": "stdout",
     "output_type": "stream",
     "text": [
      "Confusion matrix for KNN\n",
      " [[45  0  3]\n",
      " [10  5  1]\n",
      " [ 3  1 32]]\n",
      "accuracy_KNN : 0.820\n",
      "precision_KNN : 0.820\n",
      "recall_KNN: 0.820\n",
      "f1-score_KNN : 0.820\n"
     ]
    }
   ],
   "source": [
    "#K-NN (K-Nearest Neighbor)\n",
    "\n",
    "knn = KNeighborsClassifier(n_neighbors = 3)\n",
    "knn.fit(X_train, y_train)\n",
    "Y_pred = knn.predict(X_test) \n",
    "accuracy_knn=round(metrics.accuracy_score(y_test,Y_pred)* 100, 2)\n",
    "acc_knn = round(knn.score(X_train, y_train) * 100, 2)\n",
    "\n",
    "cm = metrics.confusion_matrix(y_test, Y_pred)\n",
    "accuracy = metrics.accuracy_score(y_test,Y_pred)\n",
    "precision = metrics.precision_score(y_test, Y_pred,average='micro')\n",
    "recall = metrics.recall_score(y_test, Y_pred,average='micro')\n",
    "f1 = metrics.f1_score(y_test,Y_pred,average='micro')\n",
    "print('Confusion matrix for KNN\\n',cm)\n",
    "print('accuracy_KNN : %.3f' %accuracy)\n",
    "print('precision_KNN : %.3f' %precision)\n",
    "print('recall_KNN: %.3f' %recall)\n",
    "print('f1-score_KNN : %.3f' %f1)"
   ]
  },
  {
   "cell_type": "code",
   "execution_count": 49,
   "id": "f2c86f1e",
   "metadata": {},
   "outputs": [
    {
     "name": "stdout",
     "output_type": "stream",
     "text": [
      "Confusion matrix for SVC\n",
      " [[48  0  0]\n",
      " [ 2 14  0]\n",
      " [ 0  0 36]]\n",
      "accuracy_SVC: 0.980\n",
      "precision_SVC: 0.980\n",
      "recall_SVC: 0.980\n",
      "f1-score_SVC : 0.980\n"
     ]
    }
   ],
   "source": [
    "#Linear Support Vector Machine\n",
    "\n",
    "#Supervised ML algorithm, which can be used for\n",
    "#classification and regression problems.\n",
    "\n",
    "linear_svc = LinearSVC(dual=False)\n",
    "linear_svc.fit(X_train, y_train)\n",
    "Y_pred = linear_svc.predict(X_test)\n",
    "accuracy_svc=round(metrics.accuracy_score(y_test,Y_pred)* 100, 2)\n",
    "acc_linear_svc = round(linear_svc.score(X_train, y_train) * 100, 2)\n",
    "\n",
    "cm = metrics.confusion_matrix(y_test, Y_pred)\n",
    "accuracy = metrics.accuracy_score(y_test,Y_pred)\n",
    "precision = metrics.precision_score(y_test, Y_pred,average='micro')\n",
    "recall = metrics.recall_score(y_test, Y_pred,average='micro')\n",
    "f1 = metrics.f1_score(y_test,Y_pred,average='micro')\n",
    "print('Confusion matrix for SVC\\n',cm)\n",
    "print('accuracy_SVC: %.3f' %accuracy)\n",
    "print('precision_SVC: %.3f' %precision)\n",
    "print('recall_SVC: %.3f' %recall)\n",
    "print('f1-score_SVC : %.3f' %f1)"
   ]
  },
  {
   "cell_type": "code",
   "execution_count": 51,
   "id": "a846647c",
   "metadata": {},
   "outputs": [
    {
     "data": {
      "text/html": [
       "<div>\n",
       "<style scoped>\n",
       "    .dataframe tbody tr th:only-of-type {\n",
       "        vertical-align: middle;\n",
       "    }\n",
       "\n",
       "    .dataframe tbody tr th {\n",
       "        vertical-align: top;\n",
       "    }\n",
       "\n",
       "    .dataframe thead th {\n",
       "        text-align: right;\n",
       "    }\n",
       "</style>\n",
       "<table border=\"1\" class=\"dataframe\">\n",
       "  <thead>\n",
       "    <tr style=\"text-align: right;\">\n",
       "      <th></th>\n",
       "      <th>Model</th>\n",
       "      <th>Score</th>\n",
       "      <th>Accuracy_score</th>\n",
       "    </tr>\n",
       "  </thead>\n",
       "  <tbody>\n",
       "    <tr>\n",
       "      <th>0</th>\n",
       "      <td>Support Vector Machine</td>\n",
       "      <td>100.00</td>\n",
       "      <td>98.0</td>\n",
       "    </tr>\n",
       "    <tr>\n",
       "      <th>1</th>\n",
       "      <td>Naive Bayes</td>\n",
       "      <td>97.42</td>\n",
       "      <td>95.0</td>\n",
       "    </tr>\n",
       "    <tr>\n",
       "      <th>2</th>\n",
       "      <td>KNN</td>\n",
       "      <td>88.84</td>\n",
       "      <td>82.0</td>\n",
       "    </tr>\n",
       "  </tbody>\n",
       "</table>\n",
       "</div>"
      ],
      "text/plain": [
       "                    Model   Score  Accuracy_score\n",
       "0  Support Vector Machine  100.00            98.0\n",
       "1             Naive Bayes   97.42            95.0\n",
       "2                     KNN   88.84            82.0"
      ]
     },
     "execution_count": 51,
     "metadata": {},
     "output_type": "execute_result"
    }
   ],
   "source": [
    "#Comparing classification methods\n",
    "results = pd.DataFrame({\n",
    "    'Model': [ 'Naive Bayes', \n",
    "              'KNN', \n",
    "              'Support Vector Machine'\n",
    "              ],\n",
    "    'Score': [ acc_gaussian,\n",
    "              acc_knn,\n",
    "              acc_linear_svc],\n",
    "    \"Accuracy_score\":[accuracy_nb,\n",
    "                      accuracy_knn,\n",
    "                      accuracy_svc    \n",
    "                     ]})\n",
    "result_df = results.sort_values(by='Accuracy_score', ascending=False)\n",
    "result_df = result_df.reset_index(drop=True)\n",
    "result_df"
   ]
  },
  {
   "cell_type": "code",
   "execution_count": null,
   "id": "f71e7067",
   "metadata": {},
   "outputs": [],
   "source": []
  }
 ],
 "metadata": {
  "kernelspec": {
   "display_name": "Python 3",
   "language": "python",
   "name": "python3"
  },
  "language_info": {
   "codemirror_mode": {
    "name": "ipython",
    "version": 3
   },
   "file_extension": ".py",
   "mimetype": "text/x-python",
   "name": "python",
   "nbconvert_exporter": "python",
   "pygments_lexer": "ipython3",
   "version": "3.8.8"
  }
 },
 "nbformat": 4,
 "nbformat_minor": 5
}
