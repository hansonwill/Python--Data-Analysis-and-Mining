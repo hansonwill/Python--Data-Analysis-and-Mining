{
 "cells": [
  {
   "cell_type": "code",
   "execution_count": 3,
   "id": "21ad29d9",
   "metadata": {},
   "outputs": [],
   "source": [
    "import re"
   ]
  },
  {
   "cell_type": "code",
   "execution_count": 4,
   "id": "fa0cb139",
   "metadata": {},
   "outputs": [
    {
     "name": "stdout",
     "output_type": "stream",
     "text": [
      "enter your sentance:\n",
      "I have an apple\n",
      "count of a= 0\n",
      "count of an= 1\n",
      "count of the= 0\n"
     ]
    }
   ],
   "source": [
    "def count_det(x):\n",
    "    if x is None:\n",
    "        print(\"A text must be provided\")\n",
    "    list_of_words = x.split(' ')\n",
    "    print('count of a=', len([w for w in list_of_words if re.sub('\\W+', ' ', w.lower()).strip() == 'a']))\n",
    "    print('count of an=', len([w for w in list_of_words if re.sub('\\W+', ' ', w.lower()).strip() == 'an']))\n",
    "    print('count of the=', len([w for w in list_of_words if re.sub('\\W+', ' ', w.lower()).strip() == 'the']))\n",
    "\n",
    "\n",
    "if __name__ == \"__main__\":\n",
    "    print(\"enter your sentance:\")\n",
    "    sentance = input()\n",
    "    count_det(sentance)\n"
   ]
  },
  {
   "cell_type": "code",
   "execution_count": null,
   "id": "4a86354d",
   "metadata": {},
   "outputs": [],
   "source": []
  }
 ],
 "metadata": {
  "kernelspec": {
   "display_name": "Python 3",
   "language": "python",
   "name": "python3"
  },
  "language_info": {
   "codemirror_mode": {
    "name": "ipython",
    "version": 3
   },
   "file_extension": ".py",
   "mimetype": "text/x-python",
   "name": "python",
   "nbconvert_exporter": "python",
   "pygments_lexer": "ipython3",
   "version": "3.8.8"
  }
 },
 "nbformat": 4,
 "nbformat_minor": 5
}
