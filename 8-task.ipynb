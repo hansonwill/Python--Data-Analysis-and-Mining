{
 "cells": [
  {
   "cell_type": "code",
   "execution_count": 4,
   "id": "620d62c9",
   "metadata": {},
   "outputs": [
    {
     "name": "stdout",
     "output_type": "stream",
     "text": [
      "A sentence is correct if starts with big capital letter and ends with a punctuation mark\n",
      "enter your sentance:\n",
      "I want an apple.\n",
      "sentance is not correct\n"
     ]
    }
   ],
   "source": [
    "def is_sentance_correct(x):\n",
    "    if x[0] == str(x[0]).upper() and x[-1] == '!':\n",
    "        return \"sentance is correct\"\n",
    "    return \"sentance is not correct\"\n",
    "\n",
    "\n",
    "if __name__ == \"__main__\":\n",
    "    print(\"A sentence is correct if starts with big capital letter and ends with a punctuation mark\")\n",
    "    print(\"enter your sentance:\")\n",
    "    sentance = input()\n",
    "    print(is_sentance_correct(sentance))"
   ]
  },
  {
   "cell_type": "code",
   "execution_count": null,
   "id": "fe8614af",
   "metadata": {},
   "outputs": [],
   "source": []
  }
 ],
 "metadata": {
  "kernelspec": {
   "display_name": "Python 3",
   "language": "python",
   "name": "python3"
  },
  "language_info": {
   "codemirror_mode": {
    "name": "ipython",
    "version": 3
   },
   "file_extension": ".py",
   "mimetype": "text/x-python",
   "name": "python",
   "nbconvert_exporter": "python",
   "pygments_lexer": "ipython3",
   "version": "3.8.8"
  }
 },
 "nbformat": 4,
 "nbformat_minor": 5
}
