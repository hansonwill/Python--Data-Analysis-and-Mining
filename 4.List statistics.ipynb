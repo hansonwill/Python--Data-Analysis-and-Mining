{
 "cells": [
  {
   "cell_type": "code",
   "execution_count": 2,
   "id": "a8cf2edd",
   "metadata": {},
   "outputs": [
    {
     "name": "stdout",
     "output_type": "stream",
     "text": [
      "Welcome to the Simple Dictionay\n",
      "default language is en, type hu to change it\n",
      "en\n",
      "enter a word to translte\n",
      "apple\n",
      "alma\n"
     ]
    }
   ],
   "source": [
    "import sys\n",
    "\n",
    "\n",
    "def translate(word, lang='en'):\n",
    "    lang = lang if lang else 'en'\n",
    "    with open('dictionary.txt', 'r') as data:\n",
    "        if lang == 'en':\n",
    "            _dict = {x.split(' ')[0].strip(): x.split(' ')[1].strip() for x in data.read().split('\\n') if x != ''}\n",
    "        elif lang == 'hu':\n",
    "            _dict = {x.split(' ')[1].strip(): x.split(' ')[0].strip() for x in data.read().split('\\n') if x != ''}\n",
    "        else:\n",
    "            return 'We only translate en -> hu or hu -> en'\n",
    "\n",
    "        if (result := _dict.get(word)) is not None:\n",
    "            return result\n",
    "        else:\n",
    "            print('we have detected a new word of the %s language!' % lang)\n",
    "            print('enter y/yes/add to add it to the dictionary')\n",
    "            add_new_word = input()\n",
    "            if add_new_word.lower() not in ['y', 'yes', 'add']:\n",
    "                print('okay, bye')\n",
    "                sys.exit(0)\n",
    "            else:\n",
    "                print('enter the translation of the word (%s)' % word)\n",
    "                translation = input()\n",
    "                with open('dictionary.txt', 'a') as writer:\n",
    "                    writer.write(word + ' ' + translation)\n",
    "                print('done, new word added')\n",
    "\n",
    "\n",
    "if __name__ == '__main__':\n",
    "    print('Welcome to the Simple Dictionay')\n",
    "    print('default language is en, type hu to change it')\n",
    "    _lang = input()\n",
    "    print('enter a word to translte')\n",
    "    _word = input()\n",
    "    print(translate(_word, _lang))\n"
   ]
  },
  {
   "cell_type": "code",
   "execution_count": null,
   "id": "a0b7313d",
   "metadata": {},
   "outputs": [],
   "source": []
  }
 ],
 "metadata": {
  "kernelspec": {
   "display_name": "Python 3",
   "language": "python",
   "name": "python3"
  },
  "language_info": {
   "codemirror_mode": {
    "name": "ipython",
    "version": 3
   },
   "file_extension": ".py",
   "mimetype": "text/x-python",
   "name": "python",
   "nbconvert_exporter": "python",
   "pygments_lexer": "ipython3",
   "version": "3.8.8"
  }
 },
 "nbformat": 4,
 "nbformat_minor": 5
}
